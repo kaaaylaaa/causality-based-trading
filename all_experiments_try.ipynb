{
 "cells": [
  {
   "cell_type": "code",
   "execution_count": 1,
   "id": "cac22461-d16a-4875-b1ce-0682f89a10e5",
   "metadata": {},
   "outputs": [
    {
     "name": "stderr",
     "output_type": "stream",
     "text": [
      "/Users/tangruijie/anaconda3/envs/l/lib/python3.12/site-packages/tigramite-5.2.5.11-py3.12.egg/tigramite/pcmci.py:1759: SyntaxWarning: invalid escape sequence '\\m'\n",
      "/Users/tangruijie/anaconda3/envs/l/lib/python3.12/site-packages/tigramite-5.2.5.11-py3.12.egg/tigramite/pcmci.py:1965: SyntaxWarning: invalid escape sequence '\\w'\n",
      "/Users/tangruijie/anaconda3/envs/l/lib/python3.12/site-packages/tigramite-5.2.5.11-py3.12.egg/tigramite/pcmci.py:1759: SyntaxWarning: invalid escape sequence '\\m'\n",
      "/Users/tangruijie/anaconda3/envs/l/lib/python3.12/site-packages/tigramite-5.2.5.11-py3.12.egg/tigramite/pcmci.py:1965: SyntaxWarning: invalid escape sequence '\\w'\n"
     ]
    }
   ],
   "source": [
    "import networkx as nx\n",
    "import numpy as np\n",
    "import os\n",
    "import lingam\n",
    "import sys\n",
    "import pandas as pd\n",
    "from causal_discovery_varlingam import causal_discovery_varlingam\n",
    "from causal_discovery_pcmci import causal_discovery_pcmci"
   ]
  },
  {
   "cell_type": "code",
   "execution_count": null,
   "id": "4c2ac843-177b-4e82-904d-efaad5faab11",
   "metadata": {},
   "outputs": [],
   "source": []
  }
 ],
 "metadata": {
  "kernelspec": {
   "display_name": "Python 3 (ipykernel)",
   "language": "python",
   "name": "python3"
  },
  "language_info": {
   "codemirror_mode": {
    "name": "ipython",
    "version": 3
   },
   "file_extension": ".py",
   "mimetype": "text/x-python",
   "name": "python",
   "nbconvert_exporter": "python",
   "pygments_lexer": "ipython3",
   "version": "3.12.2"
  }
 },
 "nbformat": 4,
 "nbformat_minor": 5
}

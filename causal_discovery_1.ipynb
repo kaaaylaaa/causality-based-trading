{
 "cells": [
  {
   "cell_type": "code",
   "execution_count": null,
   "metadata": {},
   "outputs": [],
   "source": [
    "import networkx as nx\n",
    "import numpy as np\n",
    "import pandas as pd\n",
    "import os\n",
    "import lingam\n",
    "from lingam.utils import make_dot, print_causal_directions, print_dagc\n",
    "\n",
    "def causal_discovery_varlingam(data, lag):\n",
    "    model = lingam.VARLiNGAM(lags=lag)\n",
    "    model.fit(data)\n",
    "    summary_matrix = np.sum(np.abs(model.adjacency_matrices_), axis=0)\n",
    "    causal_graph = nx.from_numpy_array(summary_matrix.T, create_using=nx.DiGraph)\n",
    "    for u, v, d in causal_graph.edges(data=True):\n",
    "            del d['weight']\n",
    "    return causal_graph\n",
    "\n",
    "def causal_discovery(data, lag_range, market_name, algorithm):\n",
    "    directory = \"./causal_graph\"\n",
    "    os.makedirs(directory, exist_ok=True)\n",
    "    for i in lag_range:\n",
    "        print(f\"lag={i}\")\n",
    "        if algorithm == \"varlingam\":\n",
    "            G = causal_discovery_varlingam(data, i)\n",
    "        filename = os.path.join(directory, f'{market_name}_graph_{algorithm}_lag_{i}.txt')\n",
    "        nx.write_adjlist(G, filename)\n",
    "\n",
    "data = pd.read_csv('./data/Cleaned_S_P_500_Data.csv', delimiter=',', index_col=False, header=0)\n",
    "data = data.to_numpy()\n",
    "\n",
    "causal_discovery(data[:,:10], range(1,7), \"sp500\", \"varlingam\")"
   ]
  }
 ],
 "metadata": {
  "kernelspec": {
   "display_name": "Python 3 (ipykernel)",
   "language": "python",
   "name": "python3"
  },
  "language_info": {
   "codemirror_mode": {
    "name": "ipython",
    "version": 3
   },
   "file_extension": ".py",
   "mimetype": "text/x-python",
   "name": "python",
   "nbconvert_exporter": "python",
   "pygments_lexer": "ipython3",
   "version": "3.12.2"
  }
 },
 "nbformat": 4,
 "nbformat_minor": 4
}

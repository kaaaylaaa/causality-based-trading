{
 "cells": [
  {
   "cell_type": "raw",
   "id": "8ec00531-e229-4039-aa4e-2c537d27eec0",
   "metadata": {},
   "source": [
    "import numpy as np\n",
    "import pandas as pd\n",
    "matrix0 = pd.read_csv('./varlingam_causal_structure/adjacencymatrix0.csv', header=None)\n",
    "matrix1 = pd.read_csv('./varlingam_causal_structure/adjacencymatrix1.csv', header=None)\n",
    "summary_matrix = np.abs(matrix0) + np.abs(matrix1)\n",
    "summary_matrix"
   ]
  },
  {
   "cell_type": "raw",
   "id": "aa33f6ea-2ca7-4607-98c6-9ca043a333c7",
   "metadata": {},
   "source": [
    "nonzero_columns = summary_matrix.apply(lambda row: row[row != 0].index.tolist(), axis=1)\n",
    "print(nonzero_columns[0])"
   ]
  },
  {
   "cell_type": "raw",
   "id": "2edd1ae2-3fbe-4c62-ad59-3f8a185b0678",
   "metadata": {},
   "source": [
    "import networkx as nx\n",
    "import numpy as np\n",
    "import pandas as pd\n",
    "import sys\n",
    "import os\n",
    "import csv\n",
    "from sklearn.linear_model import LinearRegression\n",
    "import matplotlib.pyplot as plt"
   ]
  },
  {
   "cell_type": "raw",
   "id": "932af634-d428-459f-89d1-a9d6009d9e9a",
   "metadata": {},
   "source": [
    "causal_graph_filename = \"causal_graphs/sp500_graph_varlingam_lag_3.txt\"\n",
    "G = nx.convert_node_labels_to_integers(nx.read_adjlist(causal_graph_filename, create_using=nx.DiGraph))\n",
    "causes_index = list(G.predecessors(0))\n",
    "causes_index"
   ]
  },
  {
   "cell_type": "code",
   "execution_count": 1,
   "id": "7842b7c5-9fd7-4e53-9270-4a00732a06e0",
   "metadata": {},
   "outputs": [
    {
     "data": {
      "text/plain": [
       "<lingam.var_lingam.VARLiNGAM at 0x179dc31a0>"
      ]
     },
     "execution_count": 1,
     "metadata": {},
     "output_type": "execute_result"
    }
   ],
   "source": [
    "import pandas as pd\n",
    "data = pd.read_csv('./data/Cleaned_CSI_300_Data.csv', delimiter=',', index_col=False, header=0)\n",
    "import numpy as np\n",
    "import networkx as nx\n",
    "import graphviz\n",
    "import lingam\n",
    "from lingam.utils import make_dot, print_causal_directions, print_dagc\n",
    "from os import listdir\n",
    "from os.path import isfile, join\n",
    "import statistics\n",
    "\n",
    "model = lingam.VARLiNGAM(lags=1)\n",
    "model.fit(data)"
   ]
  },
  {
   "cell_type": "code",
   "execution_count": 3,
   "id": "7dd421ca-6f3c-40d3-877c-b8d75fd9c144",
   "metadata": {},
   "outputs": [
    {
     "name": "stdout",
     "output_type": "stream",
     "text": [
      "[ 0  1  5 15 17 19 20 23 26 28 29 32 34 37 38 39 47 69 83 86 88 97]\n"
     ]
    }
   ],
   "source": [
    "summary_matrix = np.sum(np.abs(model.adjacency_matrices_), axis=0)\n",
    "nonzero_columns = np.nonzero(summary_matrix[0, :])[0]\n",
    "print(nonzero_columns)"
   ]
  },
  {
   "cell_type": "code",
   "execution_count": 12,
   "id": "87510010-2719-4bf2-ba59-8de167c96ca2",
   "metadata": {},
   "outputs": [
    {
     "data": {
      "text/plain": [
       "[0,\n",
       " 1,\n",
       " 5,\n",
       " 15,\n",
       " 17,\n",
       " 19,\n",
       " 20,\n",
       " 23,\n",
       " 26,\n",
       " 28,\n",
       " 29,\n",
       " 32,\n",
       " 34,\n",
       " 37,\n",
       " 38,\n",
       " 39,\n",
       " 47,\n",
       " 69,\n",
       " 83,\n",
       " 86,\n",
       " 88,\n",
       " 97]"
      ]
     },
     "execution_count": 12,
     "metadata": {},
     "output_type": "execute_result"
    }
   ],
   "source": [
    "causal_graph_filename = \"causal_graphs/csi300_graph_varlingam_lag_1.txt\"\n",
    "# G = nx.convert_node_labels_to_integers(nx.read_adjlist(causal_graph_filename, create_using=nx.DiGraph))\n",
    "G = nx.read_adjlist(causal_graph_filename, create_using=nx.DiGraph)\n",
    "edges = list(G.edges)\n",
    "# print(edges)\n",
    "stock_index = 0\n",
    "causes_index = list(G.predecessors(str(stock_index)))\n",
    "causes_index\n",
    "int_list = [int(item) for item in causes_index]\n",
    "int_list"
   ]
  },
  {
   "cell_type": "code",
   "execution_count": 8,
   "id": "d7e3f875-d2cd-4705-9872-cf05238960ca",
   "metadata": {},
   "outputs": [
    {
     "name": "stdout",
     "output_type": "stream",
     "text": [
      "[('0', '0'), ('1', '1'), ('2', '2'), ('3', '3'), ('4', '4'), ('5', '5'), ('6', '6'), ('7', '7'), ('8', '8'), ('9', '9'), ('10', '10'), ('11', '11'), ('12', '12'), ('13', '13'), ('14', '14'), ('15', '15'), ('16', '16'), ('17', '17'), ('18', '18'), ('19', '19'), ('20', '20'), ('21', '21'), ('22', '22'), ('23', '23'), ('24', '24'), ('25', '25'), ('26', '26'), ('27', '27'), ('28', '28'), ('29', '29')]\n"
     ]
    },
    {
     "data": {
      "text/plain": [
       "['0']"
      ]
     },
     "execution_count": 8,
     "metadata": {},
     "output_type": "execute_result"
    }
   ],
   "source": [
    "import numpy as np\n",
    "import networkx as nx\n",
    "\n",
    "summary_matrix = np.eye(30)\n",
    "G_self = nx.from_numpy_array(summary_matrix.T, create_using=nx.DiGraph)\n",
    "for u, v, d in G_self.edges(data=True):\n",
    "    del d['weight']\n",
    "G_self = nx.relabel_nodes(G_self, lambda x: str(x))\n",
    "edges_self = list(G_self.edges)\n",
    "print(edges_self)\n",
    "stock_index = 0\n",
    "causes_self_index = list(G_self.predecessors(str(stock_index)))\n",
    "causes_self_index"
   ]
  },
  {
   "cell_type": "code",
   "execution_count": 9,
   "id": "42b96a98-d1f4-48a1-93f6-23508a59c1fe",
   "metadata": {},
   "outputs": [],
   "source": [
    "import pandas as pd\n",
    "data = pd.read_csv('./data/Cleaned_S_P_500_Data.csv', delimiter=',', index_col=False, header=0)"
   ]
  },
  {
   "cell_type": "code",
   "execution_count": 27,
   "id": "cde88974-e78a-460c-9c76-6a20e8fa4d90",
   "metadata": {},
   "outputs": [
    {
     "data": {
      "text/plain": [
       "array([25.85, 25.22, 25.29, ..., 85.42, 84.9 , 85.31])"
      ]
     },
     "execution_count": 27,
     "metadata": {},
     "output_type": "execute_result"
    }
   ],
   "source": [
    "A = data.iloc[:, 0]\n",
    "A = A.to_numpy()\n",
    "A"
   ]
  },
  {
   "cell_type": "code",
   "execution_count": 28,
   "id": "85c622b3-9800-46ba-b532-49698dcd8ce7",
   "metadata": {},
   "outputs": [
    {
     "data": {
      "text/plain": [
       "array([25.22, 25.29, 25.86, ..., 85.42, 84.9 , 85.31])"
      ]
     },
     "execution_count": 28,
     "metadata": {},
     "output_type": "execute_result"
    }
   ],
   "source": [
    "A_lag = A[1:]\n",
    "A_lag"
   ]
  },
  {
   "cell_type": "code",
   "execution_count": 32,
   "id": "47e83b34-985f-4dd4-8280-fa03e675d089",
   "metadata": {},
   "outputs": [
    {
     "data": {
      "text/plain": [
       "array([25.29, 25.86, 26.41, ..., 85.42, 84.9 , 85.31])"
      ]
     },
     "execution_count": 32,
     "metadata": {},
     "output_type": "execute_result"
    }
   ],
   "source": [
    "A_lag2 = A_lag[1:]\n",
    "A_lag2"
   ]
  },
  {
   "cell_type": "code",
   "execution_count": 33,
   "id": "f1ae374e-146c-45d2-ba67-7208eddb3782",
   "metadata": {},
   "outputs": [
    {
     "data": {
      "text/plain": [
       "array([[25.22, 25.29],\n",
       "       [25.29, 25.86],\n",
       "       [25.86, 26.41],\n",
       "       ...,\n",
       "       [85.45, 85.42],\n",
       "       [85.42, 84.9 ],\n",
       "       [84.9 , 85.31]])"
      ]
     },
     "execution_count": 33,
     "metadata": {},
     "output_type": "execute_result"
    }
   ],
   "source": [
    "X = np.column_stack((A_lag[:-1], A_lag2))\n",
    "X"
   ]
  },
  {
   "cell_type": "code",
   "execution_count": 43,
   "id": "1519e715-2b83-4d47-a10f-e93228f31ec2",
   "metadata": {},
   "outputs": [
    {
     "name": "stdout",
     "output_type": "stream",
     "text": [
      "[[84.79650011]]\n"
     ]
    }
   ],
   "source": [
    "from sklearn.linear_model import LinearRegression\n",
    "model = LinearRegression()\n",
    "model.fit(X[:-1,:], A[:-3].reshape(-1, 1))\n",
    "prediction = model.predict(X[-1,:].reshape(1, -1))\n",
    "print(prediction)"
   ]
  }
 ],
 "metadata": {
  "kernelspec": {
   "display_name": "Python 3 (ipykernel)",
   "language": "python",
   "name": "python3"
  },
  "language_info": {
   "codemirror_mode": {
    "name": "ipython",
    "version": 3
   },
   "file_extension": ".py",
   "mimetype": "text/x-python",
   "name": "python",
   "nbconvert_exporter": "python",
   "pygments_lexer": "ipython3",
   "version": "3.12.2"
  }
 },
 "nbformat": 4,
 "nbformat_minor": 5
}

{
 "cells": [
  {
   "cell_type": "raw",
   "id": "8ec00531-e229-4039-aa4e-2c537d27eec0",
   "metadata": {},
   "source": [
    "import numpy as np\n",
    "import pandas as pd\n",
    "matrix0 = pd.read_csv('./varlingam_causal_structure/adjacencymatrix0.csv', header=None)\n",
    "matrix1 = pd.read_csv('./varlingam_causal_structure/adjacencymatrix1.csv', header=None)\n",
    "summary_matrix = np.abs(matrix0) + np.abs(matrix1)\n",
    "summary_matrix"
   ]
  },
  {
   "cell_type": "raw",
   "id": "aa33f6ea-2ca7-4607-98c6-9ca043a333c7",
   "metadata": {},
   "source": [
    "nonzero_columns = summary_matrix.apply(lambda row: row[row != 0].index.tolist(), axis=1)\n",
    "print(nonzero_columns[0])"
   ]
  },
  {
   "cell_type": "raw",
   "id": "2edd1ae2-3fbe-4c62-ad59-3f8a185b0678",
   "metadata": {},
   "source": [
    "import networkx as nx\n",
    "import numpy as np\n",
    "import pandas as pd\n",
    "import sys\n",
    "import os\n",
    "import csv\n",
    "from sklearn.linear_model import LinearRegression\n",
    "import matplotlib.pyplot as plt"
   ]
  },
  {
   "cell_type": "raw",
   "id": "932af634-d428-459f-89d1-a9d6009d9e9a",
   "metadata": {},
   "source": [
    "causal_graph_filename = \"causal_graphs/sp500_graph_varlingam_lag_3.txt\"\n",
    "G = nx.convert_node_labels_to_integers(nx.read_adjlist(causal_graph_filename, create_using=nx.DiGraph))\n",
    "causes_index = list(G.predecessors(0))\n",
    "causes_index"
   ]
  },
  {
   "cell_type": "code",
   "execution_count": 1,
   "id": "7842b7c5-9fd7-4e53-9270-4a00732a06e0",
   "metadata": {},
   "outputs": [
    {
     "data": {
      "text/plain": [
       "<lingam.var_lingam.VARLiNGAM at 0x179dc31a0>"
      ]
     },
     "execution_count": 1,
     "metadata": {},
     "output_type": "execute_result"
    }
   ],
   "source": [
    "import pandas as pd\n",
    "data = pd.read_csv('./data/Cleaned_CSI_300_Data.csv', delimiter=',', index_col=False, header=0)\n",
    "import numpy as np\n",
    "import networkx as nx\n",
    "import graphviz\n",
    "import lingam\n",
    "from lingam.utils import make_dot, print_causal_directions, print_dagc\n",
    "from os import listdir\n",
    "from os.path import isfile, join\n",
    "import statistics\n",
    "\n",
    "model = lingam.VARLiNGAM(lags=1)\n",
    "model.fit(data)"
   ]
  },
  {
   "cell_type": "code",
   "execution_count": 3,
   "id": "7dd421ca-6f3c-40d3-877c-b8d75fd9c144",
   "metadata": {},
   "outputs": [
    {
     "name": "stdout",
     "output_type": "stream",
     "text": [
      "[ 0  1  5 15 17 19 20 23 26 28 29 32 34 37 38 39 47 69 83 86 88 97]\n"
     ]
    }
   ],
   "source": [
    "summary_matrix = np.sum(np.abs(model.adjacency_matrices_), axis=0)\n",
    "nonzero_columns = np.nonzero(summary_matrix[0, :])[0]\n",
    "print(nonzero_columns)"
   ]
  },
  {
   "cell_type": "code",
   "execution_count": 12,
   "id": "87510010-2719-4bf2-ba59-8de167c96ca2",
   "metadata": {},
   "outputs": [
    {
     "data": {
      "text/plain": [
       "[0,\n",
       " 1,\n",
       " 5,\n",
       " 15,\n",
       " 17,\n",
       " 19,\n",
       " 20,\n",
       " 23,\n",
       " 26,\n",
       " 28,\n",
       " 29,\n",
       " 32,\n",
       " 34,\n",
       " 37,\n",
       " 38,\n",
       " 39,\n",
       " 47,\n",
       " 69,\n",
       " 83,\n",
       " 86,\n",
       " 88,\n",
       " 97]"
      ]
     },
     "execution_count": 12,
     "metadata": {},
     "output_type": "execute_result"
    }
   ],
   "source": [
    "causal_graph_filename = \"causal_graphs/csi300_graph_varlingam_lag_1.txt\"\n",
    "# G = nx.convert_node_labels_to_integers(nx.read_adjlist(causal_graph_filename, create_using=nx.DiGraph))\n",
    "G = nx.read_adjlist(causal_graph_filename, create_using=nx.DiGraph)\n",
    "edges = list(G.edges)\n",
    "# print(edges)\n",
    "stock_index = 0\n",
    "causes_index = list(G.predecessors(str(stock_index)))\n",
    "causes_index\n",
    "int_list = [int(item) for item in causes_index]\n",
    "int_list"
   ]
  }
 ],
 "metadata": {
  "kernelspec": {
   "display_name": "Python 3 (ipykernel)",
   "language": "python",
   "name": "python3"
  },
  "language_info": {
   "codemirror_mode": {
    "name": "ipython",
    "version": 3
   },
   "file_extension": ".py",
   "mimetype": "text/x-python",
   "name": "python",
   "nbconvert_exporter": "python",
   "pygments_lexer": "ipython3",
   "version": "3.12.2"
  }
 },
 "nbformat": 4,
 "nbformat_minor": 5
}
